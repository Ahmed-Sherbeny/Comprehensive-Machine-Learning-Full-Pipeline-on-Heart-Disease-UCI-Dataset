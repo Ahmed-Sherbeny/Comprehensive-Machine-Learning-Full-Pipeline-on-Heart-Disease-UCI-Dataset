{
 "cells": [
  {
   "cell_type": "code",
   "execution_count": 72,
   "id": "611bcece",
   "metadata": {},
   "outputs": [],
   "source": [
    "import numpy as np\n",
    "import pandas as pd\n",
    "import matplotlib.pyplot as plt\n",
    "import seaborn as sns\n",
    "import os\n",
    "from ucimlrepo import fetch_ucirepo\n",
    "from sklearn.model_selection import train_test_split \n",
    "from sklearn.preprocessing import StandardScaler\n",
    "from sklearn.preprocessing import OneHotEncoder"
   ]
  },
  {
   "cell_type": "code",
   "execution_count": 73,
   "id": "0a2cbfa1",
   "metadata": {},
   "outputs": [],
   "source": [
    "def load_data(id):\n",
    "    data = fetch_ucirepo(id=id)\n",
    "    X = pd.DataFrame(data.data.features)\n",
    "    y = pd.DataFrame(data.data.targets)\n",
    "    df = pd.concat([X, y], axis = 1) \n",
    "    return df"
   ]
  },
  {
   "cell_type": "code",
   "execution_count": 74,
   "id": "cd476e59",
   "metadata": {},
   "outputs": [],
   "source": [
    "def binarize_output(df):\n",
    "    df[\"num\"] = df[\"num\"].apply(lambda x: 1 if x > 0 else 0).astype('int64')\n",
    "    return df"
   ]
  },
  {
   "cell_type": "code",
   "execution_count": 75,
   "id": "0977b6ab",
   "metadata": {},
   "outputs": [],
   "source": [
    "def drop_features(df, cols):\n",
    "    df = df.drop(columns = cols)\n",
    "    return df"
   ]
  },
  {
   "cell_type": "code",
   "execution_count": 76,
   "id": "4e53ea02",
   "metadata": {},
   "outputs": [],
   "source": [
    "#Preparations\n",
    "\n",
    "heart_disease = fetch_ucirepo(id=45) \n",
    "  \n",
    "# data (as pandas dataframes) \n",
    "X = heart_disease.data.features \n",
    "y = heart_disease.data.targets \n",
    "\n",
    "df = pd.concat([X, y], axis = 1)\n",
    "\n",
    "#df.to_csv(r\"../data/heart_disease.csv\")\n",
    "#df.dtypes  #no need for encoding, all numerical values.\n",
    "#df.info()\n",
    "#X.isnull().sum()\n"
   ]
  },
  {
   "cell_type": "code",
   "execution_count": 77,
   "id": "26e19a83",
   "metadata": {},
   "outputs": [],
   "source": [
    "#load dataset\n",
    "def split_features_target(dataset):\n",
    "    X = dataset.data.features \n",
    "    y = dataset.data.targets  \n",
    "    return X, y"
   ]
  },
  {
   "cell_type": "code",
   "execution_count": 78,
   "id": "6ac45589",
   "metadata": {},
   "outputs": [],
   "source": [
    "def split_train_test(X, y, test_size=0.2, random_state=42):\n",
    "    return train_test_split(X, y, test_size=test_size, random_state=random_state)"
   ]
  },
  {
   "cell_type": "code",
   "execution_count": 79,
   "id": "5d6c0352",
   "metadata": {},
   "outputs": [],
   "source": [
    "def fill_missing(X, target_columns):\n",
    "    X[target_columns] = X[target_columns].fillna(X[target_columns].median())    #ca and thal can't be decimal"
   ]
  },
  {
   "cell_type": "code",
   "execution_count": 80,
   "id": "6a160f4b",
   "metadata": {},
   "outputs": [],
   "source": [
    "# def encode(x_train, x_test, target_col):\n",
    "#     encoder = OneHotEncoder()\n",
    "#     x_train_encoded = encoder.fit_transform(x_train[target_col])\n",
    "#     x_test_encoded = encoder.fit_transform(x_test[target_col])\n",
    "#     encoded_train_df = pd.DataFrame(x_train_encoded, columns=encoder.get_feature_names_out(target_col))\n",
    "#     encoded_test_df = pd.DataFrame(x_test_encoded, columns=encoder.get_feature_names_out(target_col))\n",
    "#     return encoded_train_df, encoded_test_df\n",
    "\n",
    "# no need for this function, all are numerical values."
   ]
  },
  {
   "cell_type": "code",
   "execution_count": 81,
   "id": "a442fe2a",
   "metadata": {},
   "outputs": [],
   "source": [
    "def scale_data(x_train, x_test):\n",
    "    std_scaler = StandardScaler()\n",
    "    x_train = std_scaler.fit_transform(x_train)\n",
    "    x_test = std_scaler.transform(x_test)\n",
    "    return x_train, x_test\n"
   ]
  },
  {
   "cell_type": "code",
   "execution_count": 153,
   "id": "751ce36c",
   "metadata": {},
   "outputs": [],
   "source": [
    "def correlation(df, target = None):\n",
    "    corr = df.corr(numeric_only=True).abs()     #'numeric_only is' merely a safety precaution,\n",
    "                                                #data is supposed to be numerical anyways.\n",
    "    if target:                                                           \n",
    "        return corr[target].sort_values(ascending = False)          \n",
    "    else:\n",
    "        return corr"
   ]
  },
  {
   "cell_type": "code",
   "execution_count": 159,
   "id": "be2d5e35",
   "metadata": {},
   "outputs": [],
   "source": [
    "def visualize_data(x, y, mode):\n",
    "    plt.figure(figsize=(10, 8))\n",
    "    if mode == \"histogram\":\n",
    "        plt.hist(y, bins = 20)\n",
    "        plt.tight_layout()\n",
    "        plt.xlabel('Presence of heart disease and its severity')\n",
    "        plt.ylabel('frequencies')\n",
    "\n",
    "    if mode == \"heatmap\":\n",
    "        plt.figure(figsize=(24, 8))\n",
    "        sns.heatmap(correlation(df), annot=True, cmap = 'Blues')\n",
    "        plt.title('correlation heatmap')\n",
    "        plt.xlabel('Feature 1')\n",
    "        plt.ylabel('Feature 2')\n",
    "\n",
    "    if mode == \"boxplot\":\n",
    "        sns.boxplot(data=x, orient=\"h\")\n",
    "        plt.title(\"Boxplot of Heart Disease Dataset (All Numeric Columns)\", fontsize=16)\n",
    "        plt.xlabel(\"Value Range\", fontsize=12)\n",
    "        plt.ylabel(\"Features\", fontsize=12)\n",
    "        plt.grid(axis=\"x\", linestyle=\"--\", alpha=0.7)\n",
    "\n",
    "    plt.show()"
   ]
  }
 ],
 "metadata": {
  "kernelspec": {
   "display_name": "base",
   "language": "python",
   "name": "python3"
  },
  "language_info": {
   "codemirror_mode": {
    "name": "ipython",
    "version": 3
   },
   "file_extension": ".py",
   "mimetype": "text/x-python",
   "name": "python",
   "nbconvert_exporter": "python",
   "pygments_lexer": "ipython3",
   "version": "3.12.7"
  }
 },
 "nbformat": 4,
 "nbformat_minor": 5
}
