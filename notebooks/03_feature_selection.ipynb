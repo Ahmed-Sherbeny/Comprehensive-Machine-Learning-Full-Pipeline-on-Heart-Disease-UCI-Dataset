{
 "cells": [
  {
   "cell_type": "code",
   "execution_count": 15,
   "id": "2474ebe8",
   "metadata": {},
   "outputs": [],
   "source": [
    "import numpy as np\n",
    "import pandas as pd\n",
    "import matplotlib.pyplot as plt\n",
    "from sklearn.ensemble import RandomForestClassifier\n",
    "from sklearn.feature_selection import RFE"
   ]
  },
  {
   "cell_type": "code",
   "execution_count": null,
   "id": "dc78553e",
   "metadata": {},
   "outputs": [],
   "source": [
    "#sklearn built-in 'gini' importances.\n",
    "def feature_importances(feature_names, model):\n",
    "    importances = model.feature_importances_\n",
    "    feature_imp_df = pd.DataFrame({'Feature': feature_names, 'Gini Importance': importances}).sort_values('Gini Importance', ascending=False) \n",
    "    return feature_imp_df"
   ]
  },
  {
   "cell_type": "code",
   "execution_count": 14,
   "id": "00fdb70c",
   "metadata": {},
   "outputs": [],
   "source": [
    "def visualize_importances(feature_names, feature_importances):\n",
    "    plt.figure(figsize=(8, 4))\n",
    "    plt.barh(feature_names, feature_importances, color='skyblue')\n",
    "    plt.xlabel('Gini Importance')\n",
    "    plt.title('Feature Importance - Gini Importance')\n",
    "    plt.gca().invert_yaxis()  # Invert y-axis for better visualization\n",
    "    plt.show()"
   ]
  },
  {
   "cell_type": "code",
   "execution_count": 16,
   "id": "60598b25",
   "metadata": {},
   "outputs": [],
   "source": [
    "def RFE_select(estimator, n_features, step, X, y):\n",
    "    selector = RFE(estimator=estimator, n_features_to_select = n_features, step = step)\n",
    "    selector = selector.fit(X, y)\n",
    "    selected_features_mask = selector.support_\n",
    "    return selected_features_mask"
   ]
  },
  {
   "cell_type": "code",
   "execution_count": 17,
   "id": "2174c64e",
   "metadata": {},
   "outputs": [],
   "source": [
    "def get_selected_feature_names(X, selected_features):\n",
    "    selected_feature_names = X.columns[selected_features]\n",
    "    return selected_feature_names"
   ]
  },
  {
   "cell_type": "code",
   "execution_count": 18,
   "id": "8a95ee15",
   "metadata": {},
   "outputs": [],
   "source": [
    "def new_model_selected_features(X_train, X_test, selected_feature_names):\n",
    "    X_train_selected = X_train[selected_feature_names]\n",
    "    X_test_selected = X_test[selected_feature_names]\n",
    "    return X_train_selected, X_test_selected"
   ]
  }
 ],
 "metadata": {
  "kernelspec": {
   "display_name": "base",
   "language": "python",
   "name": "python3"
  },
  "language_info": {
   "codemirror_mode": {
    "name": "ipython",
    "version": 3
   },
   "file_extension": ".py",
   "mimetype": "text/x-python",
   "name": "python",
   "nbconvert_exporter": "python",
   "pygments_lexer": "ipython3",
   "version": "3.12.7"
  }
 },
 "nbformat": 4,
 "nbformat_minor": 5
}
